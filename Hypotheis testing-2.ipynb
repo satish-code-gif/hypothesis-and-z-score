{
 "cells": [
  {
   "cell_type": "markdown",
   "id": "eea2ade3",
   "metadata": {},
   "source": [
    "Blood glucose levels for obese patients have a mean of 100 with a standard deviation of\n",
    "15. A researcher thinks that a diet high in raw cornstarch will have a positive effect on \n",
    "blood glucose levels. A sample of 36 patients who have tried the raw cornstarch diet \n",
    "have a mean glucose level of 108. Test the hypothesis that the raw cornstarch had an \n",
    "effect or not."
   ]
  },
  {
   "cell_type": "code",
   "execution_count": 1,
   "id": "65ac9f4c",
   "metadata": {},
   "outputs": [
    {
     "name": "stdout",
     "output_type": "stream",
     "text": [
      "3.2\n",
      "reject H0\n"
     ]
    }
   ],
   "source": [
    "#H0: u=100=u1 A researcher thinks that a diet high in raw cornstarch will have a positive effect on blood glucose levels.\n",
    "# H1: u!=u1 Alternative to the H0\n",
    "#sample is greater than 30 that mean we have to perform large sample test\n",
    "#single population\n",
    "#absolutely it is two tail because u!=u1\n",
    "#one sample with mean and sd\n",
    "import math\n",
    "u=100v\n",
    "x=108\n",
    "sd=15\n",
    "n=36\n",
    "#formula for z-statistic\n",
    "z=(x-u)/(sd/math.sqrt(36))\n",
    "print(z)\n",
    "los=1.96#level of signifacance value of 0.05 in z-table is 1.96\n",
    "if(z<=los):\n",
    "    print(\"accept H0\")\n",
    "else:\n",
    "    print(\"reject H0\")"
   ]
  },
  {
   "cell_type": "markdown",
   "id": "41b63711",
   "metadata": {},
   "source": [
    "In one state, 52% of the voters are Republicans, and 48% are Democrats. In a second \n",
    "state, 47% of the voters are Republicans, and 53% are Democrats. Suppose a simple \n",
    "random sample of 100 voters are surveyed from each state.\n",
    "What is the probability that the survey will show a greater percentage of Republican \n",
    "voters in the second state than in the first state?"
   ]
  },
  {
   "cell_type": "code",
   "execution_count": 7,
   "id": "e22d14ac",
   "metadata": {},
   "outputs": [
    {
     "name": "stdout",
     "output_type": "stream",
     "text": [
      "-0.7080278164104213\n",
      "the probability that the survey: 0.23946399182220013\n"
     ]
    }
   ],
   "source": [
    "# given data, 52% of the voters are Republicans\n",
    "#48% of the voters are Democrats\n",
    "#in second state the voters are\n",
    "#47% of the voters are republicans\n",
    "#53% are Democrats\n",
    "#sample of 100 voters are surveyed from each state\n",
    "from scipy import stats\n",
    "p1=0.52\n",
    "p2=0.48\n",
    "g1=0.47\n",
    "g2=0.53\n",
    "n=100\n",
    "md=p1-g1\n",
    "std=((p1*p2/100)+(g1*g2/100))**.5\n",
    "z=(0-md)/std\n",
    "print(z)\n",
    "p=stats.norm.cdf(z)\n",
    "print(\"the probability that the survey:\",p)\n",
    "\n"
   ]
  },
  {
   "cell_type": "markdown",
   "id": "7cfbce61",
   "metadata": {},
   "source": [
    "You take the SAT and score 1100. The mean score for the SAT is 1026 and the standard \n",
    "deviation is 209. How well did you score on the test compared to the average test taker?"
   ]
  },
  {
   "cell_type": "code",
   "execution_count": 10,
   "id": "9dfa0400",
   "metadata": {},
   "outputs": [
    {
     "name": "stdout",
     "output_type": "stream",
     "text": [
      "0.35406698564593303\n",
      "the score on the test compared to the average test taker 0.6383556584353189\n"
     ]
    }
   ],
   "source": [
    "#score=1100\n",
    "#the mean score for the SAT is 1026\n",
    "#the standard deviation is 209\n",
    "x=1100\n",
    "u=1026\n",
    "sd=209\n",
    "z=(x-u)/sd\n",
    "print(z)\n",
    "p=stats.norm.cdf(z)\n",
    "print(\"the score on the test compared to the average test taker\",p)\n"
   ]
  },
  {
   "cell_type": "code",
   "execution_count": null,
   "id": "be9ba21f",
   "metadata": {},
   "outputs": [],
   "source": []
  }
 ],
 "metadata": {
  "kernelspec": {
   "display_name": "Python 3 (ipykernel)",
   "language": "python",
   "name": "python3"
  },
  "language_info": {
   "codemirror_mode": {
    "name": "ipython",
    "version": 3
   },
   "file_extension": ".py",
   "mimetype": "text/x-python",
   "name": "python",
   "nbconvert_exporter": "python",
   "pygments_lexer": "ipython3",
   "version": "3.9.13"
  }
 },
 "nbformat": 4,
 "nbformat_minor": 5
}
